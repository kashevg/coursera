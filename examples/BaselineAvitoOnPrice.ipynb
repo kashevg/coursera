{
 "cells": [
  {
   "cell_type": "code",
   "execution_count": 3,
   "metadata": {},
   "outputs": [],
   "source": [
    "import os\n",
    "import csv\n",
    "import pandas as pd\n",
    "import lightgbm as lgb\n",
    "import numpy as np\n",
    "import gc\n",
    "from sklearn.model_selection import train_test_split\n",
    "from sklearn.preprocessing import LabelEncoder, OneHotEncoder\n",
    "import seaborn as sns"
   ]
  },
  {
   "cell_type": "code",
   "execution_count": 4,
   "metadata": {},
   "outputs": [],
   "source": [
    "train_frame = pd.read_csv('train.csv')\n",
    "test_frame = pd.read_csv('test.csv')"
   ]
  },
  {
   "cell_type": "code",
   "execution_count": 5,
   "metadata": {},
   "outputs": [],
   "source": [
    "test_item_id = test_frame.item_id.values"
   ]
  },
  {
   "cell_type": "code",
   "execution_count": 6,
   "metadata": {},
   "outputs": [],
   "source": [
    "cat_columns = ['region', 'city', 'parent_category_name', 'category_name', 'param_1', 'user_type']\n",
    "for col in cat_columns:\n",
    "    lbl = LabelEncoder()\n",
    "    lbl.fit(list(train_frame[col].values.astype('str')) + list(test_frame[col].values.astype('str')))\n",
    "    train_frame[col] = lbl.transform(list(train_frame[col].values.astype('str')))\n",
    "    test_frame[col] = lbl.transform(list(test_frame[col].values.astype('str')))\n"
   ]
  },
  {
   "cell_type": "code",
   "execution_count": 7,
   "metadata": {},
   "outputs": [],
   "source": [
    "train_x = train_frame[['price', 'image_top_1']].values\n",
    "test_x = test_frame[['price', 'image_top_1']].values\n",
    "train_arr = [train_x]\n",
    "test_arr = [test_x]\n",
    "for col in cat_columns:\n",
    "    lbl = OneHotEncoder()\n",
    "    lbl_set = list(train_frame[col].values) + list(test_frame[col].values)\n",
    "    lbl_set = np.reshape(np.array(lbl_set), (-1, 1))\n",
    "    lbl.fit(lbl_set)\n",
    "    lbl_set_train = np.reshape(np.array(list(train_frame[col].values)), (-1, 1))\n",
    "    train_col_lbl = lbl.transform(lbl_set_train)\n",
    "    train_arr.append(train_col_lbl.todense())\n",
    "    lbl_set_test = np.reshape(np.array(list(test_frame[col].values)), (-1, 1))\n",
    "    test_col_lbl = lbl.transform(lbl_set_test)\n",
    "    test_arr.append(test_col_lbl.todense())\n",
    "\n"
   ]
  },
  {
   "cell_type": "code",
   "execution_count": 8,
   "metadata": {},
   "outputs": [],
   "source": [
    "train_x = np.hstack(train_arr)\n"
   ]
  },
  {
   "cell_type": "code",
   "execution_count": 9,
   "metadata": {},
   "outputs": [],
   "source": [
    "test_x = np.hstack(test_arr)"
   ]
  },
  {
   "cell_type": "code",
   "execution_count": 10,
   "metadata": {},
   "outputs": [
    {
     "name": "stdout",
     "output_type": "stream",
     "text": [
      "(1503424, 2213)\n",
      "(508438, 2213)\n"
     ]
    }
   ],
   "source": [
    "print(train_x.shape)\n",
    "print(test_x.shape)"
   ]
  },
  {
   "cell_type": "code",
   "execution_count": 11,
   "metadata": {},
   "outputs": [],
   "source": [
    "y = train_frame.deal_probability.values"
   ]
  },
  {
   "cell_type": "code",
   "execution_count": 12,
   "metadata": {},
   "outputs": [],
   "source": [
    "del train_arr, test_arr, train_frame, test_frame"
   ]
  },
  {
   "cell_type": "code",
   "execution_count": 13,
   "metadata": {},
   "outputs": [
    {
     "data": {
      "text/plain": [
       "171"
      ]
     },
     "execution_count": 13,
     "metadata": {},
     "output_type": "execute_result"
    }
   ],
   "source": [
    "gc.collect()"
   ]
  },
  {
   "cell_type": "code",
   "execution_count": 14,
   "metadata": {},
   "outputs": [],
   "source": [
    "X_train, X_valid, y_train, y_valid = train_test_split(train_x, y, test_size=0.2, random_state=42)\n"
   ]
  },
  {
   "cell_type": "code",
   "execution_count": 15,
   "metadata": {},
   "outputs": [
    {
     "name": "stdout",
     "output_type": "stream",
     "text": [
      "[0.76786 0.      0.12311 ... 0.2     0.80323 0.     ]\n"
     ]
    }
   ],
   "source": [
    "print(y_train)"
   ]
  },
  {
   "cell_type": "code",
   "execution_count": 16,
   "metadata": {},
   "outputs": [],
   "source": [
    "lgtrain = lgb.Dataset(np.asarray(X_train), label=y_train)\n",
    "lgval = lgb.Dataset(np.asarray(X_valid), label=y_valid)"
   ]
  },
  {
   "cell_type": "code",
   "execution_count": 17,
   "metadata": {},
   "outputs": [
    {
     "name": "stdout",
     "output_type": "stream",
     "text": [
      "Training until validation scores don't improve for 100 rounds.\n",
      "[20]\tvalid_0's rmse: 0.245847\n",
      "[40]\tvalid_0's rmse: 0.238456\n",
      "[60]\tvalid_0's rmse: 0.234506\n",
      "[80]\tvalid_0's rmse: 0.232292\n",
      "[100]\tvalid_0's rmse: 0.23093\n",
      "[120]\tvalid_0's rmse: 0.230109\n",
      "[140]\tvalid_0's rmse: 0.229556\n",
      "[160]\tvalid_0's rmse: 0.229165\n",
      "[180]\tvalid_0's rmse: 0.228851\n",
      "[200]\tvalid_0's rmse: 0.228602\n",
      "[220]\tvalid_0's rmse: 0.2284\n",
      "[240]\tvalid_0's rmse: 0.228225\n",
      "[260]\tvalid_0's rmse: 0.228063\n",
      "[280]\tvalid_0's rmse: 0.227937\n",
      "[300]\tvalid_0's rmse: 0.227816\n",
      "[320]\tvalid_0's rmse: 0.227712\n",
      "[340]\tvalid_0's rmse: 0.227629\n",
      "[360]\tvalid_0's rmse: 0.227553\n",
      "[380]\tvalid_0's rmse: 0.22749\n",
      "[400]\tvalid_0's rmse: 0.227442\n",
      "[420]\tvalid_0's rmse: 0.227398\n",
      "[440]\tvalid_0's rmse: 0.227355\n",
      "[460]\tvalid_0's rmse: 0.227314\n",
      "[480]\tvalid_0's rmse: 0.227285\n",
      "[500]\tvalid_0's rmse: 0.227256\n",
      "[520]\tvalid_0's rmse: 0.227223\n",
      "[540]\tvalid_0's rmse: 0.227193\n",
      "[560]\tvalid_0's rmse: 0.227167\n",
      "[580]\tvalid_0's rmse: 0.227138\n",
      "[600]\tvalid_0's rmse: 0.227111\n",
      "[620]\tvalid_0's rmse: 0.227087\n",
      "[640]\tvalid_0's rmse: 0.227065\n",
      "[660]\tvalid_0's rmse: 0.227042\n",
      "[680]\tvalid_0's rmse: 0.227022\n",
      "[700]\tvalid_0's rmse: 0.226998\n",
      "[720]\tvalid_0's rmse: 0.226979\n",
      "[740]\tvalid_0's rmse: 0.226964\n",
      "[760]\tvalid_0's rmse: 0.226949\n",
      "[780]\tvalid_0's rmse: 0.22693\n",
      "[800]\tvalid_0's rmse: 0.226911\n",
      "[820]\tvalid_0's rmse: 0.226896\n",
      "[840]\tvalid_0's rmse: 0.226885\n",
      "[860]\tvalid_0's rmse: 0.226869\n",
      "[880]\tvalid_0's rmse: 0.226858\n",
      "[900]\tvalid_0's rmse: 0.226845\n",
      "[920]\tvalid_0's rmse: 0.226832\n",
      "[940]\tvalid_0's rmse: 0.226821\n",
      "[960]\tvalid_0's rmse: 0.226808\n",
      "[980]\tvalid_0's rmse: 0.226793\n",
      "[1000]\tvalid_0's rmse: 0.226783\n",
      "[1020]\tvalid_0's rmse: 0.226774\n",
      "[1040]\tvalid_0's rmse: 0.226759\n",
      "[1060]\tvalid_0's rmse: 0.226747\n",
      "[1080]\tvalid_0's rmse: 0.226738\n",
      "[1100]\tvalid_0's rmse: 0.226728\n",
      "[1120]\tvalid_0's rmse: 0.226717\n",
      "[1140]\tvalid_0's rmse: 0.226709\n",
      "[1160]\tvalid_0's rmse: 0.226702\n",
      "[1180]\tvalid_0's rmse: 0.226693\n",
      "[1200]\tvalid_0's rmse: 0.226682\n",
      "[1220]\tvalid_0's rmse: 0.226678\n",
      "[1240]\tvalid_0's rmse: 0.22667\n",
      "[1260]\tvalid_0's rmse: 0.226664\n",
      "[1280]\tvalid_0's rmse: 0.226655\n",
      "[1300]\tvalid_0's rmse: 0.226648\n",
      "[1320]\tvalid_0's rmse: 0.22664\n",
      "[1340]\tvalid_0's rmse: 0.226633\n",
      "[1360]\tvalid_0's rmse: 0.226628\n",
      "[1380]\tvalid_0's rmse: 0.226622\n",
      "[1400]\tvalid_0's rmse: 0.226615\n",
      "[1420]\tvalid_0's rmse: 0.226609\n",
      "[1440]\tvalid_0's rmse: 0.226605\n",
      "[1460]\tvalid_0's rmse: 0.2266\n",
      "[1480]\tvalid_0's rmse: 0.226596\n",
      "[1500]\tvalid_0's rmse: 0.226593\n",
      "[1520]\tvalid_0's rmse: 0.226586\n",
      "[1540]\tvalid_0's rmse: 0.226583\n",
      "[1560]\tvalid_0's rmse: 0.226577\n",
      "[1580]\tvalid_0's rmse: 0.226574\n",
      "[1600]\tvalid_0's rmse: 0.226571\n",
      "[1620]\tvalid_0's rmse: 0.226566\n",
      "[1640]\tvalid_0's rmse: 0.226563\n",
      "[1660]\tvalid_0's rmse: 0.226556\n",
      "[1680]\tvalid_0's rmse: 0.226553\n",
      "[1700]\tvalid_0's rmse: 0.22655\n",
      "[1720]\tvalid_0's rmse: 0.226546\n",
      "[1740]\tvalid_0's rmse: 0.226539\n",
      "[1760]\tvalid_0's rmse: 0.226535\n",
      "[1780]\tvalid_0's rmse: 0.226529\n",
      "[1800]\tvalid_0's rmse: 0.226525\n",
      "[1820]\tvalid_0's rmse: 0.226522\n",
      "[1840]\tvalid_0's rmse: 0.226518\n",
      "[1860]\tvalid_0's rmse: 0.226516\n",
      "[1880]\tvalid_0's rmse: 0.226515\n",
      "[1900]\tvalid_0's rmse: 0.226512\n",
      "[1920]\tvalid_0's rmse: 0.226506\n",
      "[1940]\tvalid_0's rmse: 0.226505\n",
      "[1960]\tvalid_0's rmse: 0.226502\n",
      "[1980]\tvalid_0's rmse: 0.226499\n",
      "[2000]\tvalid_0's rmse: 0.226496\n",
      "[2020]\tvalid_0's rmse: 0.226495\n",
      "[2040]\tvalid_0's rmse: 0.226493\n",
      "[2060]\tvalid_0's rmse: 0.226491\n",
      "[2080]\tvalid_0's rmse: 0.22649\n",
      "[2100]\tvalid_0's rmse: 0.226487\n",
      "[2120]\tvalid_0's rmse: 0.226484\n",
      "[2140]\tvalid_0's rmse: 0.226481\n",
      "[2160]\tvalid_0's rmse: 0.226479\n",
      "[2180]\tvalid_0's rmse: 0.226475\n",
      "[2200]\tvalid_0's rmse: 0.226474\n",
      "[2220]\tvalid_0's rmse: 0.226471\n",
      "[2240]\tvalid_0's rmse: 0.226469\n",
      "[2260]\tvalid_0's rmse: 0.226469\n",
      "[2280]\tvalid_0's rmse: 0.226467\n",
      "[2300]\tvalid_0's rmse: 0.226465\n",
      "[2320]\tvalid_0's rmse: 0.22646\n",
      "[2340]\tvalid_0's rmse: 0.22646\n",
      "[2360]\tvalid_0's rmse: 0.226461\n",
      "[2380]\tvalid_0's rmse: 0.226459\n",
      "[2400]\tvalid_0's rmse: 0.22646\n",
      "[2420]\tvalid_0's rmse: 0.226459\n",
      "[2440]\tvalid_0's rmse: 0.22646\n",
      "[2460]\tvalid_0's rmse: 0.226463\n",
      "[2480]\tvalid_0's rmse: 0.226462\n",
      "[2500]\tvalid_0's rmse: 0.226463\n",
      "[2520]\tvalid_0's rmse: 0.226463\n",
      "Early stopping, best iteration is:\n",
      "[2424]\tvalid_0's rmse: 0.226458\n"
     ]
    }
   ],
   "source": [
    "params = {\n",
    "        \"objective\" : \"regression\",\n",
    "        \"metric\" : \"rmse\",\n",
    "        'num_leaves': 250,\n",
    "        'feature_fraction': 0.65,\n",
    "        'bagging_fraction': 0.85,\n",
    "        'learning_rate': 0.02,\n",
    "    }\n",
    "    \n",
    "evals_result = {}\n",
    "model = lgb.train(params, lgtrain, 4000, valid_sets=[lgval], early_stopping_rounds=100, verbose_eval=20)"
   ]
  },
  {
   "cell_type": "code",
   "execution_count": null,
   "metadata": {},
   "outputs": [],
   "source": [
    "predictions.shape"
   ]
  },
  {
   "cell_type": "code",
   "execution_count": 40,
   "metadata": {},
   "outputs": [
    {
     "ename": "NameError",
     "evalue": "name 'predictions' is not defined",
     "output_type": "error",
     "traceback": [
      "\u001b[0;31m---------------------------------------------------------------------------\u001b[0m",
      "\u001b[0;31mNameError\u001b[0m                                 Traceback (most recent call last)",
      "\u001b[0;32m<ipython-input-40-dbc009a24bab>\u001b[0m in \u001b[0;36m<module>\u001b[0;34m()\u001b[0m\n\u001b[0;32m----> 1\u001b[0;31m \u001b[0mpredictions\u001b[0m\u001b[0;34m[\u001b[0m\u001b[0mpredictions\u001b[0m \u001b[0;34m>\u001b[0m \u001b[0;36m0.2\u001b[0m\u001b[0;34m]\u001b[0m\u001b[0;34m.\u001b[0m\u001b[0mshape\u001b[0m\u001b[0;34m\u001b[0m\u001b[0m\n\u001b[0m",
      "\u001b[0;31mNameError\u001b[0m: name 'predictions' is not defined"
     ]
    }
   ],
   "source": [
    "predictions[predictions > 0.2].shape"
   ]
  },
  {
   "cell_type": "code",
   "execution_count": 22,
   "metadata": {},
   "outputs": [],
   "source": [
    "predictions = model.predict(np.asarray(test_x))"
   ]
  },
  {
   "cell_type": "code",
   "execution_count": 20,
   "metadata": {},
   "outputs": [],
   "source": [
    "predictions[predictions > 0.2] = 1\n",
    "predictions[predictions <= 0.2] = 0\n",
    "predictions = predictions.astype(int)"
   ]
  },
  {
   "cell_type": "code",
   "execution_count": 25,
   "metadata": {},
   "outputs": [],
   "source": [
    "sub_df = pd.DataFrame({\"item_id\":test_item_id})\n",
    "sub_df[\"deal_probability\"] = predictions.clip(0,1)\n",
    "sub_df.to_csv(\"/tmp/baseline_avito.csv\", index=False)"
   ]
  },
  {
   "cell_type": "code",
   "execution_count": null,
   "metadata": {},
   "outputs": [],
   "source": [
    "sns.distplot(y[y>0.001])"
   ]
  },
  {
   "cell_type": "code",
   "execution_count": null,
   "metadata": {},
   "outputs": [],
   "source": [
    "sns.distplot(y[y< 0.05])"
   ]
  },
  {
   "cell_type": "code",
   "execution_count": null,
   "metadata": {},
   "outputs": [],
   "source": [
    "sns.distplot(y[y > 0.95])"
   ]
  },
  {
   "cell_type": "code",
   "execution_count": null,
   "metadata": {},
   "outputs": [],
   "source": [
    "sns.distplot(y)"
   ]
  },
  {
   "cell_type": "code",
   "execution_count": null,
   "metadata": {},
   "outputs": [],
   "source": []
  }
 ],
 "metadata": {
  "kernelspec": {
   "display_name": "Python 3",
   "language": "python",
   "name": "python3"
  },
  "language_info": {
   "codemirror_mode": {
    "name": "ipython",
    "version": 3
   },
   "file_extension": ".py",
   "mimetype": "text/x-python",
   "name": "python",
   "nbconvert_exporter": "python",
   "pygments_lexer": "ipython3",
   "version": "3.6.5"
  }
 },
 "nbformat": 4,
 "nbformat_minor": 2
}
