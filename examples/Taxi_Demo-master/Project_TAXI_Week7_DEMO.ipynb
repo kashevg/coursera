{
 "cells": [
  {
   "cell_type": "markdown",
   "metadata": {},
   "source": [
    "### Неделя 7: Интерактивное демо "
   ]
  },
  {
   "cell_type": "code",
   "execution_count": 7,
   "metadata": {},
   "outputs": [],
   "source": [
    "import os\n",
    "import numpy as np\n",
    "import pandas as pd\n",
    "import json\n",
    "import folium\n",
    "import matplotlib.pyplot as plt\n",
    "import base64\n",
    "from folium import IFrame\n",
    "from ipywidgets import interact"
   ]
  },
  {
   "cell_type": "code",
   "execution_count": 8,
   "metadata": {},
   "outputs": [
    {
     "data": {
      "text/html": [
       "<style>.container { width:80% !important; }</style>"
      ],
      "text/plain": [
       "<IPython.core.display.HTML object>"
      ]
     },
     "metadata": {},
     "output_type": "display_data"
    }
   ],
   "source": [
    "# Можете исполнить, чтобы сделать отображение ноутбука пошире. Исключительно необязательно для исполнения.\n",
    "from IPython.core.display import display, HTML\n",
    "display(HTML(\"<style>.container { width:80% !important; }</style>\"))"
   ]
  },
  {
   "cell_type": "code",
   "execution_count": 9,
   "metadata": {},
   "outputs": [],
   "source": [
    "# Индексы регионов (102 шт.) отобранных на 2 неделе\n",
    "reg_ind = pd.read_csv('ids.csv',index_col=0)\n",
    "reg_ind = reg_ind.index.values"
   ]
  },
  {
   "cell_type": "code",
   "execution_count": 10,
   "metadata": {},
   "outputs": [],
   "source": [
    "# Грузим исходные данные и предсказания\n",
    "df = pd.read_csv('original_data.csv',parse_dates=['time',],index_col='time')\n",
    "df.columns=reg_ind\n",
    "dft = df.T\n",
    "dft['id'] = [str(ind) for ind in reg_ind]\n",
    "\n",
    "df_arima = pd.read_csv('arima_data.csv',parse_dates=['time',],index_col='time')\n",
    "df_arima.columns=reg_ind\n",
    "df_arimat = df_arima.T\n",
    "df_arimat['id'] = [str(ind) for ind in reg_ind]"
   ]
  },
  {
   "cell_type": "code",
   "execution_count": 11,
   "metadata": {},
   "outputs": [],
   "source": [
    "# Берем geojson координаты регионов для интерактивной карты\n",
    "import json\n",
    "with open('filtered_cells.json','rb') as f:\n",
    "    handle = f.read()\n",
    "fc = json.loads(handle)"
   ]
  },
  {
   "cell_type": "markdown",
   "metadata": {},
   "source": [
    "### Рисуем новую  интерактивную карту\n",
    "\n",
    "1) На каждую ячейку можно нажать, чтобы увидеть информацию о регионе (предсказанный и реально зафиксированный спрос) в данной временной точке, а также графики временных рядов с настраиваемым масштабом \n",
    "\n",
    "2) Ползунок позволяет просматривать разные временные точки\n",
    "\n",
    "3) Возможен выбор разных цветовых схем отображения, а также переключение между визуализацией реального и предсказанного спроса"
   ]
  },
  {
   "cell_type": "code",
   "execution_count": 12,
   "metadata": {
    "scrolled": false
   },
   "outputs": [
    {
     "ename": "SyntaxError",
     "evalue": "invalid syntax (<ipython-input-12-848c211a71c8>, line 8)",
     "output_type": "error",
     "traceback": [
      "\u001b[0;36m  File \u001b[0;32m\"<ipython-input-12-848c211a71c8>\"\u001b[0;36m, line \u001b[0;32m8\u001b[0m\n\u001b[0;31m    print 'Time: {}'.format(dft.columns[time_point])\u001b[0m\n\u001b[0m                   ^\u001b[0m\n\u001b[0;31mSyntaxError\u001b[0m\u001b[0;31m:\u001b[0m invalid syntax\n"
     ]
    }
   ],
   "source": [
    "\n",
    "@interact(color_scheme = ['BuGn', 'BuPu', 'GnBu', 'OrRd', 'PuBu', 'PuBuGn', 'PuRd', 'RdPu',\n",
    "    'YlGn', 'YlGnBu', 'YlOrBr','YlOrRd'],data_type=['acutal','predicted'],time_point = (0,9503),\n",
    "          plot_range = (50,1000),plot_region = reg_ind)\n",
    "\n",
    "\n",
    "def chloromap(color_scheme, data_type,time_point,plot_range,plot_region):\n",
    "    print 'Time: {}'.format(dft.columns[time_point])\n",
    "    \n",
    "    m1 = folium.Map(control_scale=True,location=[40.6892494,-73.9045004],tiles='CartoDB positron',zoom_start=11)\n",
    "    \n",
    "    \n",
    "  \n",
    "    \n",
    "    if data_type == 'predicted':\n",
    "        \n",
    "        m1.choropleth(highlight=False,\n",
    "            geo_data='filtered_cells.json',\n",
    "            name='choropleth',\n",
    "            data=df_arimat,\n",
    "            columns=['id', df_arimat.columns[time_point]],\n",
    "            key_on='feature.id',\n",
    "            fill_color=color_scheme,\n",
    "            fill_opacity=0.7,\n",
    "            line_opacity=0.3,\n",
    "            legend_name='Taxi rides'\n",
    "        )\n",
    "    \n",
    "    else:\n",
    "        m1.choropleth(highlight=False,\n",
    "            geo_data='filtered_cells.json',\n",
    "            name='choropleth',\n",
    "            data=dft,\n",
    "            columns=['id', dft.columns[time_point]],\n",
    "            key_on='feature.id',\n",
    "            fill_color=color_scheme,\n",
    "            fill_opacity=1,\n",
    "            line_opacity=0.3,\n",
    "            legend_name='Taxi rides'\n",
    "            \n",
    "        )\n",
    "        \n",
    "    style_function = lambda feature : dict(\n",
    "    color='g',\n",
    "    weight=0.2,\n",
    "    opacity=0)\n",
    "    \n",
    "    \n",
    "    \n",
    "    for i in xrange(len(fc['features'])):\n",
    "        reg_id = fc['features'][i]['id']\n",
    "        \n",
    "        html = \"\"\"        <h2> Region {}</h2><br>\n",
    "        Time: {}<br>\n",
    "        Predicted demand:\n",
    "        {}<br>\n",
    "        Actual demand:\n",
    "        {}<br>\"\"\".format(reg_id,dft.columns[time_point],df_arimat.iloc[(list(reg_ind)).index(int(reg_id)),time_point],\n",
    "                         dft.iloc[(list(reg_ind)).index(int(reg_id)),time_point])\n",
    "        gj = folium.GeoJson(\n",
    "        data=fc['features'][i]['geometry'],style_function= style_function)\n",
    "        gj.add_child(folium.Popup(html) )\n",
    "        gj.add_to(m1)\n",
    "    folium.LayerControl().add_to(m1)\n",
    "    \n",
    "    left = - plot_range + time_point\n",
    "    right = time_point + plot_range\n",
    "    if left<0: left = 0\n",
    "    if right> df.shape[0]-1: right = df.shape[0]-1\n",
    "\n",
    "    \n",
    "    fig = plt.figure(figsize=(20,10))\n",
    "    plt.subplot(2, 2, 1)\n",
    "    plt.ylabel('Taxi demand time series',fontsize=24)\n",
    "    \n",
    "    df_arima[plot_region].iloc[left:right].plot(color = 'r',label = 'Predicted')\n",
    "    plt.legend()\n",
    "    plt.subplot(2, 2, 2)\n",
    "    df_arima[plot_region].iloc[left:right].plot(label='Actual')\n",
    "    plt.legend()\n",
    "    plt.tight_layout()\n",
    "    \n",
    "    plt.show()\n",
    "\n",
    "    \n",
    "    \n",
    "\n",
    "       \n",
    "    return m1\n",
    "    \n"
   ]
  },
  {
   "cell_type": "code",
   "execution_count": null,
   "metadata": {},
   "outputs": [],
   "source": []
  },
  {
   "cell_type": "code",
   "execution_count": null,
   "metadata": {},
   "outputs": [],
   "source": []
  },
  {
   "cell_type": "code",
   "execution_count": null,
   "metadata": {},
   "outputs": [],
   "source": []
  },
  {
   "cell_type": "code",
   "execution_count": null,
   "metadata": {},
   "outputs": [],
   "source": []
  }
 ],
 "metadata": {
  "anaconda-cloud": {},
  "kernelspec": {
   "display_name": "Python 3",
   "language": "python",
   "name": "python3"
  },
  "language_info": {
   "codemirror_mode": {
    "name": "ipython",
    "version": 3
   },
   "file_extension": ".py",
   "mimetype": "text/x-python",
   "name": "python",
   "nbconvert_exporter": "python",
   "pygments_lexer": "ipython3",
   "version": "3.6.5"
  }
 },
 "nbformat": 4,
 "nbformat_minor": 1
}
