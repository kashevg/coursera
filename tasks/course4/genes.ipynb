{
 "cells": [
  {
   "cell_type": "code",
   "execution_count": 1,
   "metadata": {
    "collapsed": true
   },
   "outputs": [],
   "source": [
    "import pandas as pd\n",
    "import numpy as np\n",
    "from scipy import stats\n",
    "import statsmodels.stats.multitest as smm"
   ]
  },
  {
   "cell_type": "code",
   "execution_count": 2,
   "metadata": {},
   "outputs": [
    {
     "data": {
      "text/html": [
       "<div>\n",
       "<style>\n",
       "    .dataframe thead tr:only-child th {\n",
       "        text-align: right;\n",
       "    }\n",
       "\n",
       "    .dataframe thead th {\n",
       "        text-align: left;\n",
       "    }\n",
       "\n",
       "    .dataframe tbody tr th {\n",
       "        vertical-align: top;\n",
       "    }\n",
       "</style>\n",
       "<table border=\"1\" class=\"dataframe\">\n",
       "  <thead>\n",
       "    <tr style=\"text-align: right;\">\n",
       "      <th></th>\n",
       "      <th>Diagnosis</th>\n",
       "      <th>LOC643837</th>\n",
       "      <th>LOC100130417</th>\n",
       "      <th>SAMD11</th>\n",
       "      <th>NOC2L</th>\n",
       "      <th>KLHL17</th>\n",
       "      <th>PLEKHN1</th>\n",
       "      <th>C1orf170</th>\n",
       "      <th>HES4</th>\n",
       "      <th>ISG15</th>\n",
       "      <th>...</th>\n",
       "      <th>CLIC2</th>\n",
       "      <th>RPS4Y1</th>\n",
       "      <th>ZFY</th>\n",
       "      <th>PRKY</th>\n",
       "      <th>USP9Y</th>\n",
       "      <th>DDX3Y</th>\n",
       "      <th>CD24</th>\n",
       "      <th>CYorf15B</th>\n",
       "      <th>KDM5D</th>\n",
       "      <th>EIF1AY</th>\n",
       "    </tr>\n",
       "    <tr>\n",
       "      <th>Patient_id</th>\n",
       "      <th></th>\n",
       "      <th></th>\n",
       "      <th></th>\n",
       "      <th></th>\n",
       "      <th></th>\n",
       "      <th></th>\n",
       "      <th></th>\n",
       "      <th></th>\n",
       "      <th></th>\n",
       "      <th></th>\n",
       "      <th></th>\n",
       "      <th></th>\n",
       "      <th></th>\n",
       "      <th></th>\n",
       "      <th></th>\n",
       "      <th></th>\n",
       "      <th></th>\n",
       "      <th></th>\n",
       "      <th></th>\n",
       "      <th></th>\n",
       "      <th></th>\n",
       "    </tr>\n",
       "  </thead>\n",
       "  <tbody>\n",
       "    <tr>\n",
       "      <th>STT5425_Breast_001_normal</th>\n",
       "      <td>normal</td>\n",
       "      <td>1.257614</td>\n",
       "      <td>2.408148</td>\n",
       "      <td>13.368622</td>\n",
       "      <td>9.494779</td>\n",
       "      <td>20.880435</td>\n",
       "      <td>12.722017</td>\n",
       "      <td>9.494779</td>\n",
       "      <td>54.349694</td>\n",
       "      <td>26.329928</td>\n",
       "      <td>...</td>\n",
       "      <td>4.761250</td>\n",
       "      <td>1.257614</td>\n",
       "      <td>1.257614</td>\n",
       "      <td>1.257614</td>\n",
       "      <td>1.257614</td>\n",
       "      <td>1.257614</td>\n",
       "      <td>23.268694</td>\n",
       "      <td>1.257614</td>\n",
       "      <td>1.257614</td>\n",
       "      <td>1.257614</td>\n",
       "    </tr>\n",
       "    <tr>\n",
       "      <th>STT5427_Breast_023_normal</th>\n",
       "      <td>normal</td>\n",
       "      <td>4.567931</td>\n",
       "      <td>16.602734</td>\n",
       "      <td>42.477752</td>\n",
       "      <td>25.562376</td>\n",
       "      <td>23.221137</td>\n",
       "      <td>11.622386</td>\n",
       "      <td>14.330573</td>\n",
       "      <td>72.445474</td>\n",
       "      <td>39.140813</td>\n",
       "      <td>...</td>\n",
       "      <td>6.871902</td>\n",
       "      <td>1.815112</td>\n",
       "      <td>1.815112</td>\n",
       "      <td>1.815112</td>\n",
       "      <td>1.815112</td>\n",
       "      <td>1.815112</td>\n",
       "      <td>10.427023</td>\n",
       "      <td>1.815112</td>\n",
       "      <td>1.815112</td>\n",
       "      <td>1.815112</td>\n",
       "    </tr>\n",
       "    <tr>\n",
       "      <th>STT5430_Breast_002_normal</th>\n",
       "      <td>normal</td>\n",
       "      <td>2.077597</td>\n",
       "      <td>3.978294</td>\n",
       "      <td>12.863214</td>\n",
       "      <td>13.728915</td>\n",
       "      <td>14.543176</td>\n",
       "      <td>14.141907</td>\n",
       "      <td>6.232790</td>\n",
       "      <td>57.011005</td>\n",
       "      <td>48.144685</td>\n",
       "      <td>...</td>\n",
       "      <td>7.096343</td>\n",
       "      <td>2.077597</td>\n",
       "      <td>2.077597</td>\n",
       "      <td>2.077597</td>\n",
       "      <td>2.077597</td>\n",
       "      <td>2.077597</td>\n",
       "      <td>22.344226</td>\n",
       "      <td>2.077597</td>\n",
       "      <td>2.077597</td>\n",
       "      <td>2.077597</td>\n",
       "    </tr>\n",
       "    <tr>\n",
       "      <th>STT5439_Breast_003_normal</th>\n",
       "      <td>normal</td>\n",
       "      <td>2.066576</td>\n",
       "      <td>8.520713</td>\n",
       "      <td>14.466035</td>\n",
       "      <td>7.823932</td>\n",
       "      <td>8.520713</td>\n",
       "      <td>2.066576</td>\n",
       "      <td>10.870009</td>\n",
       "      <td>53.292034</td>\n",
       "      <td>27.076621</td>\n",
       "      <td>...</td>\n",
       "      <td>5.200770</td>\n",
       "      <td>2.066576</td>\n",
       "      <td>2.066576</td>\n",
       "      <td>2.066576</td>\n",
       "      <td>2.066576</td>\n",
       "      <td>2.066576</td>\n",
       "      <td>49.295538</td>\n",
       "      <td>2.066576</td>\n",
       "      <td>2.066576</td>\n",
       "      <td>2.066576</td>\n",
       "    </tr>\n",
       "    <tr>\n",
       "      <th>STT5441_Breast_004_normal</th>\n",
       "      <td>normal</td>\n",
       "      <td>2.613616</td>\n",
       "      <td>3.434965</td>\n",
       "      <td>12.682222</td>\n",
       "      <td>10.543189</td>\n",
       "      <td>26.688686</td>\n",
       "      <td>12.484822</td>\n",
       "      <td>1.364917</td>\n",
       "      <td>67.140393</td>\n",
       "      <td>35.896701</td>\n",
       "      <td>...</td>\n",
       "      <td>11.227770</td>\n",
       "      <td>1.364917</td>\n",
       "      <td>1.364917</td>\n",
       "      <td>1.364917</td>\n",
       "      <td>1.364917</td>\n",
       "      <td>1.364917</td>\n",
       "      <td>23.627911</td>\n",
       "      <td>1.364917</td>\n",
       "      <td>1.364917</td>\n",
       "      <td>1.364917</td>\n",
       "    </tr>\n",
       "  </tbody>\n",
       "</table>\n",
       "<p>5 rows × 15749 columns</p>\n",
       "</div>"
      ],
      "text/plain": [
       "                          Diagnosis  LOC643837  LOC100130417     SAMD11  \\\n",
       "Patient_id                                                                \n",
       "STT5425_Breast_001_normal    normal   1.257614      2.408148  13.368622   \n",
       "STT5427_Breast_023_normal    normal   4.567931     16.602734  42.477752   \n",
       "STT5430_Breast_002_normal    normal   2.077597      3.978294  12.863214   \n",
       "STT5439_Breast_003_normal    normal   2.066576      8.520713  14.466035   \n",
       "STT5441_Breast_004_normal    normal   2.613616      3.434965  12.682222   \n",
       "\n",
       "                               NOC2L     KLHL17    PLEKHN1   C1orf170  \\\n",
       "Patient_id                                                              \n",
       "STT5425_Breast_001_normal   9.494779  20.880435  12.722017   9.494779   \n",
       "STT5427_Breast_023_normal  25.562376  23.221137  11.622386  14.330573   \n",
       "STT5430_Breast_002_normal  13.728915  14.543176  14.141907   6.232790   \n",
       "STT5439_Breast_003_normal   7.823932   8.520713   2.066576  10.870009   \n",
       "STT5441_Breast_004_normal  10.543189  26.688686  12.484822   1.364917   \n",
       "\n",
       "                                HES4      ISG15    ...         CLIC2  \\\n",
       "Patient_id                                         ...                 \n",
       "STT5425_Breast_001_normal  54.349694  26.329928    ...      4.761250   \n",
       "STT5427_Breast_023_normal  72.445474  39.140813    ...      6.871902   \n",
       "STT5430_Breast_002_normal  57.011005  48.144685    ...      7.096343   \n",
       "STT5439_Breast_003_normal  53.292034  27.076621    ...      5.200770   \n",
       "STT5441_Breast_004_normal  67.140393  35.896701    ...     11.227770   \n",
       "\n",
       "                             RPS4Y1       ZFY      PRKY     USP9Y     DDX3Y  \\\n",
       "Patient_id                                                                    \n",
       "STT5425_Breast_001_normal  1.257614  1.257614  1.257614  1.257614  1.257614   \n",
       "STT5427_Breast_023_normal  1.815112  1.815112  1.815112  1.815112  1.815112   \n",
       "STT5430_Breast_002_normal  2.077597  2.077597  2.077597  2.077597  2.077597   \n",
       "STT5439_Breast_003_normal  2.066576  2.066576  2.066576  2.066576  2.066576   \n",
       "STT5441_Breast_004_normal  1.364917  1.364917  1.364917  1.364917  1.364917   \n",
       "\n",
       "                                CD24  CYorf15B     KDM5D    EIF1AY  \n",
       "Patient_id                                                          \n",
       "STT5425_Breast_001_normal  23.268694  1.257614  1.257614  1.257614  \n",
       "STT5427_Breast_023_normal  10.427023  1.815112  1.815112  1.815112  \n",
       "STT5430_Breast_002_normal  22.344226  2.077597  2.077597  2.077597  \n",
       "STT5439_Breast_003_normal  49.295538  2.066576  2.066576  2.066576  \n",
       "STT5441_Breast_004_normal  23.627911  1.364917  1.364917  1.364917  \n",
       "\n",
       "[5 rows x 15749 columns]"
      ]
     },
     "execution_count": 2,
     "metadata": {},
     "output_type": "execute_result"
    }
   ],
   "source": [
    "data = pd.DataFrame.from_csv('gene_high_throughput_sequencing.csv')\n",
    "data.head()"
   ]
  },
  {
   "cell_type": "code",
   "execution_count": 26,
   "metadata": {},
   "outputs": [
    {
     "name": "stdout",
     "output_type": "stream",
     "text": [
      "early neoplasia    25\n",
      "normal             24\n",
      "cancer             23\n",
      "Name: Diagnosis, dtype: int64\n",
      "(24, 15748) (25, 15748) (23, 15748)\n"
     ]
    }
   ],
   "source": [
    "print data.Diagnosis.value_counts()\n",
    "wnorm = data[data.Diagnosis == 'normal'].values[:, 1:]\n",
    "wearly = data[data.Diagnosis == 'early neoplasia'].values[:, 1:]\n",
    "wcancer = data[data.Diagnosis == 'cancer'].values[:, 1:]\n",
    "print wnorm.shape, wearly.shape, wcancer.shape"
   ]
  },
  {
   "cell_type": "code",
   "execution_count": 28,
   "metadata": {},
   "outputs": [
    {
     "name": "stdout",
     "output_type": "stream",
     "text": [
      "CPU times: user 7.64 s, sys: 48.3 ms, total: 7.69 s\n",
      "Wall time: 7.74 s\n"
     ]
    }
   ],
   "source": [
    "\n",
    "%%time\n",
    "norm_early = []\n",
    "early_cancer = []\n",
    "for i in xrange(data.shape[1] - 1):\n",
    "    ne = stats.ttest_ind(wnorm[:, i], wearly[:, i], equal_var=False)\n",
    "    norm_early.append(ne[1])\n",
    "    ec = stats.ttest_ind(wearly[:, i], wcancer[:, i], equal_var=False)\n",
    "    early_cancer.append(ec[1])\n"
   ]
  },
  {
   "cell_type": "code",
   "execution_count": 29,
   "metadata": {},
   "outputs": [],
   "source": [
    "early_cancer = np.array(early_cancer)\n",
    "norm_early = np.array(norm_early)\n"
   ]
  },
  {
   "cell_type": "code",
   "execution_count": 30,
   "metadata": {},
   "outputs": [
    {
     "name": "stdout",
     "output_type": "stream",
     "text": [
      "1575 3490\n"
     ]
    }
   ],
   "source": [
    "ne_sum = (norm_early < 0.05).sum()\n",
    "ec_sum = (early_cancer < 0.05).sum()\n",
    "print ne_sum, ec_sum\n",
    "with open('early_cancer.txt', 'w') as f:\n",
    "    f.write(str(ec_sum))\n",
    "\n",
    "with open('norm_early.txt', 'w') as f:\n",
    "    f.write(str(ne_sum))\n"
   ]
  },
  {
   "cell_type": "code",
   "execution_count": 50,
   "metadata": {},
   "outputs": [],
   "source": [
    "res_ne = smm.multipletests(norm_early, alpha = 0.025, method = 'holm')[0]\n",
    "ne_sum = (np.max([wnorm.T[res_ne].mean(axis = 1) / wearly.T[res_ne].mean(axis = 1),\n",
    "                 wearly.T[res_ne].mean(axis = 1) / wnorm.T[res_ne].mean(axis = 1)], axis= 0) > 1.5).sum()\n",
    "rec_ec = smm.multipletests(early_cancer, alpha = 0.025, method = 'holm')[0]\n",
    "ec_sum = (np.max([wearly.T[rec_ec].mean(axis = 1) / wcancer.T[rec_ec].mean(axis = 1),\n",
    "                 wcancer.T[rec_ec].mean(axis = 1) / wearly.T[rec_ec].mean(axis = 1)], axis= 0) > 1.5).sum()\n"
   ]
  },
  {
   "cell_type": "code",
   "execution_count": 51,
   "metadata": {
    "collapsed": true
   },
   "outputs": [],
   "source": [
    "with open('early_cancer2.txt', 'w') as f:\n",
    "    f.write(str(ec_sum))\n",
    "\n",
    "with open('norm_early2.txt', 'w') as f:\n",
    "    f.write(str(ne_sum))"
   ]
  },
  {
   "cell_type": "code",
   "execution_count": 101,
   "metadata": {
    "collapsed": true
   },
   "outputs": [],
   "source": [
    "def check_abs(non_rejected_ne, non_rejected_ec):\n",
    "    n_means = wnorm.T[non_rejected_ne].mean(axis = 1)\n",
    "    e_means = wearly.T[non_rejected_ne].mean(axis = 1)\n",
    "    e2_means = wearly.T[non_rejected_ec].mean(axis = 1)\n",
    "    c_means = wcancer.T[non_rejected_ec].mean(axis = 1)\n",
    "    ne_sum = (np.max([n_means / e_means,\n",
    "                      e_means / n_means],\n",
    "                     axis= 0)\n",
    "              > 1.5).sum()\n",
    "    ec_sum = (np.max([e2_means / c_means,\n",
    "                      c_means / e2_means],\n",
    "                     axis= 0)\n",
    "              > 1.5).sum()\n",
    "    return ne_sum, ec_sum"
   ]
  },
  {
   "cell_type": "code",
   "execution_count": 102,
   "metadata": {},
   "outputs": [
    {
     "name": "stdout",
     "output_type": "stream",
     "text": [
      "(2, 77)\n"
     ]
    }
   ],
   "source": [
    "res_ne = smm.multipletests(norm_early, alpha = 0.025, method = 'holm')[0]\n",
    "rec_ec = smm.multipletests(early_cancer, alpha = 0.025, method = 'holm')[0]\n",
    "print check_abs(res_ne, rec_ec)"
   ]
  },
  {
   "cell_type": "code",
   "execution_count": 103,
   "metadata": {},
   "outputs": [
    {
     "name": "stdout",
     "output_type": "stream",
     "text": [
      "4 77\n",
      "524\n"
     ]
    }
   ],
   "source": [
    "res_ne = smm.multipletests(norm_early, alpha = 0.025, method = 'fdr_bh')[0]\n",
    "res_ec = smm.multipletests(early_cancer, alpha= 0.025, method = 'fdr_bh')[0]\n",
    "\n",
    "ne_sum, ec_sum = check_abs(res_ne, rec_ec)\n",
    "print ne_sum, ec_sum\n",
    "\n",
    "e2_means = wearly.T[res_ec].mean(axis = 1)\n",
    "c_means = wcancer.T[res_ec].mean(axis = 1)\n",
    "ec_sum = np.max(np.abs(\n",
    "                        [e2_means / c_means,\n",
    "                         c_means / e2_means]),\n",
    "                     axis= 0)\n",
    "\n",
    "print ec_sum[ec_sum > 1.5].shape[0]"
   ]
  },
  {
   "cell_type": "code",
   "execution_count": 97,
   "metadata": {
    "collapsed": true
   },
   "outputs": [],
   "source": [
    "with open('early_cancer3.txt', 'w') as f:\n",
    "    f.write('524')\n",
    "\n",
    "with open('norm_early3.txt', 'w') as f:\n",
    "    f.write(str(ne_sum))"
   ]
  },
  {
   "cell_type": "code",
   "execution_count": null,
   "metadata": {
    "collapsed": true
   },
   "outputs": [],
   "source": []
  }
 ],
 "metadata": {
  "kernelspec": {
   "display_name": "Python 2",
   "language": "python",
   "name": "python2"
  },
  "language_info": {
   "codemirror_mode": {
    "name": "ipython",
    "version": 2
   },
   "file_extension": ".py",
   "mimetype": "text/x-python",
   "name": "python",
   "nbconvert_exporter": "python",
   "pygments_lexer": "ipython2",
   "version": "2.7.14"
  }
 },
 "nbformat": 4,
 "nbformat_minor": 2
}
