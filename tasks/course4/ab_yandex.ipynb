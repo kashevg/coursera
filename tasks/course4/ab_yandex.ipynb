{
 "cells": [
  {
   "cell_type": "code",
   "execution_count": 1,
   "metadata": {
    "collapsed": true
   },
   "outputs": [],
   "source": [
    "import pandas as pd\n",
    "import numpy as np"
   ]
  },
  {
   "cell_type": "code",
   "execution_count": 25,
   "metadata": {},
   "outputs": [
    {
     "data": {
      "text/html": [
       "<div>\n",
       "<style>\n",
       "    .dataframe thead tr:only-child th {\n",
       "        text-align: right;\n",
       "    }\n",
       "\n",
       "    .dataframe thead th {\n",
       "        text-align: left;\n",
       "    }\n",
       "\n",
       "    .dataframe tbody tr th {\n",
       "        vertical-align: top;\n",
       "    }\n",
       "</style>\n",
       "<table border=\"1\" class=\"dataframe\">\n",
       "  <thead>\n",
       "    <tr style=\"text-align: right;\">\n",
       "      <th></th>\n",
       "      <th>userID</th>\n",
       "      <th>browser</th>\n",
       "      <th>slot</th>\n",
       "      <th>n_clicks</th>\n",
       "      <th>n_queries</th>\n",
       "      <th>n_nonclk_queries</th>\n",
       "    </tr>\n",
       "  </thead>\n",
       "  <tbody>\n",
       "    <tr>\n",
       "      <th>0</th>\n",
       "      <td>1</td>\n",
       "      <td>Browser #2</td>\n",
       "      <td>exp</td>\n",
       "      <td>23</td>\n",
       "      <td>32</td>\n",
       "      <td>19</td>\n",
       "    </tr>\n",
       "    <tr>\n",
       "      <th>1</th>\n",
       "      <td>3</td>\n",
       "      <td>Browser #4</td>\n",
       "      <td>exp</td>\n",
       "      <td>3</td>\n",
       "      <td>4</td>\n",
       "      <td>2</td>\n",
       "    </tr>\n",
       "    <tr>\n",
       "      <th>2</th>\n",
       "      <td>5</td>\n",
       "      <td>Browser #4</td>\n",
       "      <td>exp</td>\n",
       "      <td>29</td>\n",
       "      <td>35</td>\n",
       "      <td>16</td>\n",
       "    </tr>\n",
       "    <tr>\n",
       "      <th>3</th>\n",
       "      <td>6</td>\n",
       "      <td>Browser #4</td>\n",
       "      <td>control</td>\n",
       "      <td>12</td>\n",
       "      <td>6</td>\n",
       "      <td>0</td>\n",
       "    </tr>\n",
       "    <tr>\n",
       "      <th>4</th>\n",
       "      <td>7</td>\n",
       "      <td>Browser #4</td>\n",
       "      <td>exp</td>\n",
       "      <td>54</td>\n",
       "      <td>68</td>\n",
       "      <td>30</td>\n",
       "    </tr>\n",
       "  </tbody>\n",
       "</table>\n",
       "</div>"
      ],
      "text/plain": [
       "   userID     browser     slot  n_clicks  n_queries  n_nonclk_queries\n",
       "0       1  Browser #2      exp        23         32                19\n",
       "1       3  Browser #4      exp         3          4                 2\n",
       "2       5  Browser #4      exp        29         35                16\n",
       "3       6  Browser #4  control        12          6                 0\n",
       "4       7  Browser #4      exp        54         68                30"
      ]
     },
     "execution_count": 25,
     "metadata": {},
     "output_type": "execute_result"
    }
   ],
   "source": [
    "df = pd.DataFrame.from_csv('ab_browser_test.csv', index_col=None)\n",
    "df.head()"
   ]
  },
  {
   "cell_type": "code",
   "execution_count": 3,
   "metadata": {},
   "outputs": [
    {
     "name": "stdout",
     "output_type": "stream",
     "text": [
      "1.0161356898244158\n"
     ]
    }
   ],
   "source": [
    "exp_clicks = df[df.slot == 'exp']['n_clicks'].astype(float).values\n",
    "control_clicks = df[df.slot == 'control']['n_clicks'].astype(float).values\n",
    "\n",
    "print exp_clicks.sum() / control_clicks.sum()"
   ]
  },
  {
   "cell_type": "code",
   "execution_count": 4,
   "metadata": {
    "collapsed": true
   },
   "outputs": [],
   "source": [
    "def get_bootstrap_samples(data, n_samples):\n",
    "    indices = np.random.randint(0, len(data), (n_samples, len(data)))\n",
    "    samples = data[indices]\n",
    "    return samples"
   ]
  },
  {
   "cell_type": "code",
   "execution_count": 5,
   "metadata": {
    "collapsed": true
   },
   "outputs": [],
   "source": [
    "def stat_intervals(stat, alpha):\n",
    "    boundaries = np.percentile(stat, [100 * alpha / 2., 100 * (1 - alpha / 2.)])\n",
    "    return boundaries"
   ]
  },
  {
   "cell_type": "code",
   "execution_count": 6,
   "metadata": {},
   "outputs": [
    {
     "name": "stdout",
     "output_type": "stream",
     "text": [
      "exp_median_scores [5. 5.]\n",
      "cntr_median_scores [4. 4.]\n",
      "95% confidence interval for the difference between medians [-1. -1.]\n"
     ]
    }
   ],
   "source": [
    "np.random.seed(0)\n",
    "\n",
    "exp_median_scores = map(np.median, get_bootstrap_samples(exp_clicks, 1000))\n",
    "cntr_median_scores = map(np.median, get_bootstrap_samples(control_clicks, 1000))\n",
    "\n",
    "print \"exp_median_scores\",  stat_intervals(exp_median_scores, 0.05)\n",
    "print \"cntr_median_scores\",  stat_intervals(cntr_median_scores, 0.05)\n",
    "\n",
    "delta_median_scores = map(lambda x: x[1] - x[0], zip(exp_median_scores, cntr_median_scores))\n",
    "print \"95% confidence interval for the difference between medians\",  stat_intervals(delta_median_scores, 0.05)"
   ]
  },
  {
   "cell_type": "code",
   "execution_count": 7,
   "metadata": {},
   "outputs": [
    {
     "name": "stdout",
     "output_type": "stream",
     "text": [
      "exp_mean_scores [11.50674915 11.65758017]\n",
      "cntr_mean_scores [11.21242374 11.35449133]\n",
      "95% confidence interval for the difference between medians [-0.40975645 -0.19866114]\n"
     ]
    }
   ],
   "source": [
    "exp_mean_scores = map(np.mean, get_bootstrap_samples(exp_clicks, 1000))\n",
    "cntr_mean_scores = map(np.mean, get_bootstrap_samples(control_clicks, 1000))\n",
    "\n",
    "print \"exp_mean_scores\",  stat_intervals(exp_mean_scores, 0.05)\n",
    "print \"cntr_mean_scores\",  stat_intervals(cntr_mean_scores, 0.05)\n",
    "\n",
    "delta_mean_scores = map(lambda x: x[1] - x[0], zip(exp_mean_scores, cntr_mean_scores))\n",
    "print \"95% confidence interval for the difference between medians\",  stat_intervals(delta_mean_scores, 0.05)"
   ]
  },
  {
   "cell_type": "code",
   "execution_count": 33,
   "metadata": {},
   "outputs": [
    {
     "name": "stdout",
     "output_type": "stream",
     "text": [
      "11.584000994388806\n"
     ]
    }
   ],
   "source": [
    "print exp_clicks.mean()"
   ]
  },
  {
   "cell_type": "code",
   "execution_count": 8,
   "metadata": {
    "collapsed": true
   },
   "outputs": [],
   "source": [
    "np.random.seed(0)\n",
    "n_boot_samples = 500"
   ]
  },
  {
   "cell_type": "code",
   "execution_count": 9,
   "metadata": {},
   "outputs": [
    {
     "data": {
      "text/plain": [
       "(500, 284554)"
      ]
     },
     "execution_count": 9,
     "metadata": {},
     "output_type": "execute_result"
    }
   ],
   "source": [
    "samples = get_bootstrap_samples(control_clicks, n_boot_samples)\n",
    "samples.shape"
   ]
  },
  {
   "cell_type": "code",
   "execution_count": 10,
   "metadata": {},
   "outputs": [
    {
     "data": {
      "text/plain": [
       "(500,)"
      ]
     },
     "execution_count": 10,
     "metadata": {},
     "output_type": "execute_result"
    }
   ],
   "source": [
    "ctrl_means = samples.mean(axis = 1)\n",
    "ctrl_means.shape"
   ]
  },
  {
   "cell_type": "code",
   "execution_count": 16,
   "metadata": {},
   "outputs": [
    {
     "data": {
      "text/plain": [
       "(500,)"
      ]
     },
     "execution_count": 16,
     "metadata": {},
     "output_type": "execute_result"
    }
   ],
   "source": [
    "control_boot_chi_squared = samples.std(axis = 1)\n",
    "control_boot_chi_squared.shape"
   ]
  },
  {
   "cell_type": "code",
   "execution_count": 23,
   "metadata": {},
   "outputs": [
    {
     "data": {
      "image/png": "[encoded data removed]",
      "text/plain": [
       "<matplotlib.figure.Figure at 0x116b577d0>"
      ]
     },
     "metadata": {},
     "output_type": "display_data"
    }
   ],
   "source": [
    "import scipy.stats\n",
    "import matplotlib.pyplot as plt\n",
    "scipy.stats.probplot(control_boot_chi_squared, dist=\"chi2\", \n",
    "                     sparams=(n_boot_samples-1), plot=plt, rvalue = True)\n",
    "plt.show()"
   ]
  },
  {
   "cell_type": "code",
   "execution_count": 24,
   "metadata": {},
   "outputs": [
    {
     "data": {
      "image/png": "[encoded data removed]",
      "text/plain": [
       "<matplotlib.figure.Figure at 0x116c1ec90>"
      ]
     },
     "metadata": {},
     "output_type": "display_data"
    }
   ],
   "source": [
    "scipy.stats.probplot(ctrl_means, dist=\"norm\", \n",
    "                     sparams=(n_boot_samples-1), plot=plt, rvalue = True)\n",
    "plt.show()"
   ]
  },
  {
   "cell_type": "code",
   "execution_count": 65,
   "metadata": {
    "collapsed": true
   },
   "outputs": [],
   "source": [
    "exp_clicks_by_user = df[df.slot == 'exp'].groupby(['userID'])['n_clicks'].sum().values\n",
    "control_clicks_by_user = df[df.slot == 'control'].groupby(['userID'])['n_clicks'].sum().values"
   ]
  },
  {
   "cell_type": "code",
   "execution_count": 66,
   "metadata": {},
   "outputs": [
    {
     "name": "stdout",
     "output_type": "stream",
     "text": [
      "(281450,) (284392,)\n"
     ]
    }
   ],
   "source": [
    "print exp_clicks_by_user.shape, control_clicks_by_user.shape"
   ]
  },
  {
   "cell_type": "code",
   "execution_count": 67,
   "metadata": {},
   "outputs": [
    {
     "data": {
      "text/plain": [
       "MannwhitneyuResult(statistic=38901259929.0, pvalue=4.3471471887604393e-75)"
      ]
     },
     "execution_count": 67,
     "metadata": {},
     "output_type": "execute_result"
    }
   ],
   "source": [
    "scipy.stats.mannwhitneyu(exp_clicks_by_user, control_clicks_by_user)"
   ]
  },
  {
   "cell_type": "code",
   "execution_count": 50,
   "metadata": {},
   "outputs": [],
   "source": [
    "browsers = df.browser.value_counts().index.tolist()"
   ]
  },
  {
   "cell_type": "code",
   "execution_count": 58,
   "metadata": {},
   "outputs": [
    {
     "name": "stdout",
     "output_type": "stream",
     "text": [
      "['Browser #4', 'Browser #22', 'Browser #2', 'Browser #14', 'Browser #20', 'Browser #17']\n",
      "[0.40760617658454984, 0.2574055152210032, 0.0272438604197241, 0.0, 0.45366656388735377, 0.03740060143010802]\n"
     ]
    }
   ],
   "source": [
    "print browsers\n",
    "\n",
    "mw_res = []\n",
    "\n",
    "for item in browsers:\n",
    "    exp_clicks_by_browser = df[(df.slot == 'exp') & (df.browser == item)]['n_clicks'].values\n",
    "    control_clicks_by_browser = df[(df.slot == 'control') & (df.browser == item)]['n_clicks'].values\n",
    "    mw_res.append(scipy.stats.mannwhitneyu(exp_clicks_by_browser, control_clicks_by_browser)[1])\n",
    "\n",
    "print mw_res"
   ]
  },
  {
   "cell_type": "code",
   "execution_count": 64,
   "metadata": {},
   "outputs": [
    {
     "data": {
      "text/plain": [
       "(array([False, False, False,  True, False, False]),\n",
       " array([0.81521235, 0.77221655, 0.1362193 , 0.        , 0.81521235,\n",
       "        0.14960241]),\n",
       " 0.008512444610847103,\n",
       " 0.008333333333333333)"
      ]
     },
     "execution_count": 64,
     "metadata": {},
     "output_type": "execute_result"
    }
   ],
   "source": [
    "import statsmodels.stats.multitest as smm\n",
    "smm.multipletests(mw_res, method = 'holm')\n"
   ]
  },
  {
   "cell_type": "code",
   "execution_count": 62,
   "metadata": {},
   "outputs": [
    {
     "name": "stdout",
     "output_type": "stream",
     "text": [
      "Browser #4 45.1429419036 46.9709296351\n",
      "Browser #22 39.8539472197 40.5939765935\n",
      "Browser #2 44.9827469486 45.9627471792\n",
      "Browser #14 43.7556173613 57.5904113601\n",
      "Browser #20 38.9773764837 40.5404847434\n",
      "Browser #17 36.9374128487 36.2993667463\n"
     ]
    }
   ],
   "source": [
    "\n",
    "for item in browsers:\n",
    "    exp_br = df[(df.slot == 'exp') & (df.browser == item)]\n",
    "    cntr_br = df[(df.slot == 'control') & (df.browser == item)]\n",
    "    print item,\n",
    "    print 100.0 * exp_br['n_nonclk_queries'].sum() / exp_br['n_queries'].sum(),\n",
    "    \n",
    "    print 100.0 * cntr_br['n_nonclk_queries'].sum() / cntr_br['n_queries'].sum()\n",
    "    \n",
    "\n"
   ]
  },
  {
   "cell_type": "code",
   "execution_count": 63,
   "metadata": {},
   "outputs": [
    {
     "name": "stdout",
     "output_type": "stream",
     "text": [
      "(89123, 6)\n"
     ]
    }
   ],
   "source": [
    "print df[df.browser == browsers[3]].shape"
   ]
  },
  {
   "cell_type": "code",
   "execution_count": null,
   "metadata": {
    "collapsed": true
   },
   "outputs": [],
   "source": []
  }
 ],
 "metadata": {
  "kernelspec": {
   "display_name": "Python 2",
   "language": "python",
   "name": "python2"
  },
  "language_info": {
   "codemirror_mode": {
    "name": "ipython",
    "version": 2
   },
   "file_extension": ".py",
   "mimetype": "text/x-python",
   "name": "python",
   "nbconvert_exporter": "python",
   "pygments_lexer": "ipython2",
   "version": "2.7.14"
  }
 },
 "nbformat": 4,
 "nbformat_minor": 2
}
