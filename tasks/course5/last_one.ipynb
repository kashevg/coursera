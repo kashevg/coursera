{
 "cells": [
  {
   "cell_type": "code",
   "execution_count": 40,
   "metadata": {},
   "outputs": [
    {
     "data": {
      "text/html": [
       "<div>\n",
       "<style>\n",
       "    .dataframe thead tr:only-child th {\n",
       "        text-align: right;\n",
       "    }\n",
       "\n",
       "    .dataframe thead th {\n",
       "        text-align: left;\n",
       "    }\n",
       "\n",
       "    .dataframe tbody tr th {\n",
       "        vertical-align: top;\n",
       "    }\n",
       "</style>\n",
       "<table border=\"1\" class=\"dataframe\">\n",
       "  <thead>\n",
       "    <tr style=\"text-align: right;\">\n",
       "      <th></th>\n",
       "      <th>watch</th>\n",
       "      <th>buy</th>\n",
       "    </tr>\n",
       "  </thead>\n",
       "  <tbody>\n",
       "    <tr>\n",
       "      <th>0</th>\n",
       "      <td>0,1,2,3,4,5</td>\n",
       "      <td>NaN</td>\n",
       "    </tr>\n",
       "    <tr>\n",
       "      <th>1</th>\n",
       "      <td>9,10,11,9,11,12,9,11</td>\n",
       "      <td>NaN</td>\n",
       "    </tr>\n",
       "    <tr>\n",
       "      <th>2</th>\n",
       "      <td>16,17,18,19,20,21</td>\n",
       "      <td>NaN</td>\n",
       "    </tr>\n",
       "    <tr>\n",
       "      <th>3</th>\n",
       "      <td>24,25,26,27,24</td>\n",
       "      <td>NaN</td>\n",
       "    </tr>\n",
       "    <tr>\n",
       "      <th>4</th>\n",
       "      <td>34,35,36,34,37,35,36,37,38,39,38,39</td>\n",
       "      <td>NaN</td>\n",
       "    </tr>\n",
       "  </tbody>\n",
       "</table>\n",
       "</div>"
      ],
      "text/plain": [
       "                                 watch  buy\n",
       "0                          0,1,2,3,4,5  NaN\n",
       "1                 9,10,11,9,11,12,9,11  NaN\n",
       "2                    16,17,18,19,20,21  NaN\n",
       "3                       24,25,26,27,24  NaN\n",
       "4  34,35,36,34,37,35,36,37,38,39,38,39  NaN"
      ]
     },
     "execution_count": 40,
     "metadata": {},
     "output_type": "execute_result"
    }
   ],
   "source": [
    "import pandas as pd\n",
    "\n",
    "train = pd.read_csv('coursera_sessions_train.txt', sep = ';', header = None)\n",
    "train.columns = ['watch', 'buy']\n",
    "train.head()"
   ]
  },
  {
   "cell_type": "code",
   "execution_count": 41,
   "metadata": {},
   "outputs": [
    {
     "data": {
      "text/html": [
       "<div>\n",
       "<style>\n",
       "    .dataframe thead tr:only-child th {\n",
       "        text-align: right;\n",
       "    }\n",
       "\n",
       "    .dataframe thead th {\n",
       "        text-align: left;\n",
       "    }\n",
       "\n",
       "    .dataframe tbody tr th {\n",
       "        vertical-align: top;\n",
       "    }\n",
       "</style>\n",
       "<table border=\"1\" class=\"dataframe\">\n",
       "  <thead>\n",
       "    <tr style=\"text-align: right;\">\n",
       "      <th></th>\n",
       "      <th>id</th>\n",
       "      <th>cnt</th>\n",
       "    </tr>\n",
       "  </thead>\n",
       "  <tbody>\n",
       "  </tbody>\n",
       "</table>\n",
       "</div>"
      ],
      "text/plain": [
       "Empty DataFrame\n",
       "Columns: [id, cnt]\n",
       "Index: []"
      ]
     },
     "execution_count": 41,
     "metadata": {},
     "output_type": "execute_result"
    }
   ],
   "source": [
    "df1 = pd.DataFrame(columns = ['id', 'cnt'])\n",
    "df1.head()"
   ]
  },
  {
   "cell_type": "code",
   "execution_count": 42,
   "metadata": {},
   "outputs": [
    {
     "data": {
      "text/html": [
       "<div>\n",
       "<style>\n",
       "    .dataframe thead tr:only-child th {\n",
       "        text-align: right;\n",
       "    }\n",
       "\n",
       "    .dataframe thead th {\n",
       "        text-align: left;\n",
       "    }\n",
       "\n",
       "    .dataframe tbody tr th {\n",
       "        vertical-align: top;\n",
       "    }\n",
       "</style>\n",
       "<table border=\"1\" class=\"dataframe\">\n",
       "  <thead>\n",
       "    <tr style=\"text-align: right;\">\n",
       "      <th></th>\n",
       "      <th>id</th>\n",
       "      <th>cnt</th>\n",
       "      <th>idx</th>\n",
       "    </tr>\n",
       "  </thead>\n",
       "  <tbody>\n",
       "    <tr>\n",
       "      <th>0</th>\n",
       "      <td>50088</td>\n",
       "      <td>1</td>\n",
       "      <td>25480</td>\n",
       "    </tr>\n",
       "    <tr>\n",
       "      <th>1</th>\n",
       "      <td>58146</td>\n",
       "      <td>2</td>\n",
       "      <td>15269</td>\n",
       "    </tr>\n",
       "    <tr>\n",
       "      <th>2</th>\n",
       "      <td>44884</td>\n",
       "      <td>1</td>\n",
       "      <td>9755</td>\n",
       "    </tr>\n",
       "    <tr>\n",
       "      <th>3</th>\n",
       "      <td>13356</td>\n",
       "      <td>1</td>\n",
       "      <td>20438</td>\n",
       "    </tr>\n",
       "    <tr>\n",
       "      <th>4</th>\n",
       "      <td>73399</td>\n",
       "      <td>2</td>\n",
       "      <td>24589</td>\n",
       "    </tr>\n",
       "  </tbody>\n",
       "</table>\n",
       "</div>"
      ],
      "text/plain": [
       "      id  cnt    idx\n",
       "0  50088    1  25480\n",
       "1  58146    2  15269\n",
       "2  44884    1   9755\n",
       "3  13356    1  20438\n",
       "4  73399    2  24589"
      ]
     },
     "execution_count": 42,
     "metadata": {},
     "output_type": "execute_result"
    }
   ],
   "source": [
    "d_tr_wcnt = dict() # словарь кол-ва просмотров\n",
    "d_tr_wrow = dict() # словарь первой строки\n",
    "for ind, sess in enumerate(train.watch):\n",
    "    for item in sess.split(','):\n",
    "        d_tr_wcnt[item] = d_tr_wcnt.get(item, 0) + 1\n",
    "        d_tr_wrow[item] = d_tr_wrow.get(item, ind)\n",
    "\n",
    "d_tr_w = []\n",
    "for key in d_tr_wcnt.keys():\n",
    "    d_tr_w.append([key, d_tr_wcnt[key], d_tr_wrow[key]])\n",
    "\n",
    "dfw = pd.DataFrame(data = d_tr_w, columns = ['id', 'cnt', 'idx'], dtype = int)\n",
    "dfw.head()"
   ]
  },
  {
   "cell_type": "code",
   "execution_count": 43,
   "metadata": {},
   "outputs": [
    {
     "data": {
      "text/html": [
       "<div>\n",
       "<style>\n",
       "    .dataframe thead tr:only-child th {\n",
       "        text-align: right;\n",
       "    }\n",
       "\n",
       "    .dataframe thead th {\n",
       "        text-align: left;\n",
       "    }\n",
       "\n",
       "    .dataframe tbody tr th {\n",
       "        vertical-align: top;\n",
       "    }\n",
       "</style>\n",
       "<table border=\"1\" class=\"dataframe\">\n",
       "  <thead>\n",
       "    <tr style=\"text-align: right;\">\n",
       "      <th></th>\n",
       "      <th>id</th>\n",
       "      <th>cnt</th>\n",
       "      <th>idx</th>\n",
       "    </tr>\n",
       "  </thead>\n",
       "  <tbody>\n",
       "    <tr>\n",
       "      <th>0</th>\n",
       "      <td>50088</td>\n",
       "      <td>1</td>\n",
       "      <td>1848</td>\n",
       "    </tr>\n",
       "    <tr>\n",
       "      <th>1</th>\n",
       "      <td>19719</td>\n",
       "      <td>1</td>\n",
       "      <td>3276</td>\n",
       "    </tr>\n",
       "    <tr>\n",
       "      <th>2</th>\n",
       "      <td>16303</td>\n",
       "      <td>2</td>\n",
       "      <td>2199</td>\n",
       "    </tr>\n",
       "    <tr>\n",
       "      <th>3</th>\n",
       "      <td>35233</td>\n",
       "      <td>1</td>\n",
       "      <td>1299</td>\n",
       "    </tr>\n",
       "    <tr>\n",
       "      <th>4</th>\n",
       "      <td>35546</td>\n",
       "      <td>1</td>\n",
       "      <td>1427</td>\n",
       "    </tr>\n",
       "  </tbody>\n",
       "</table>\n",
       "</div>"
      ],
      "text/plain": [
       "      id  cnt   idx\n",
       "0  50088    1  1848\n",
       "1  19719    1  3276\n",
       "2  16303    2  2199\n",
       "3  35233    1  1299\n",
       "4  35546    1  1427"
      ]
     },
     "execution_count": 43,
     "metadata": {},
     "output_type": "execute_result"
    }
   ],
   "source": [
    "d_tr_bcnt = dict() # словарь кол-ва покупок\n",
    "d_tr_brow = dict() # словарь первой строки покупки\n",
    "for ind, sess in enumerate(train.buy.dropna()):\n",
    "    for item in sess.split(','):\n",
    "        d_tr_bcnt[item] = d_tr_bcnt.get(item, 0) + 1\n",
    "        d_tr_brow[item] = d_tr_brow.get(item, ind)\n",
    "\n",
    "d_tr_b = []\n",
    "for key in d_tr_bcnt.keys():\n",
    "    d_tr_b.append([key, d_tr_bcnt[key], d_tr_brow[key]])\n",
    "\n",
    "dfb = pd.DataFrame(data = d_tr_b, columns = ['id', 'cnt', 'idx'], dtype = int)\n",
    "dfb.head()"
   ]
  },
  {
   "cell_type": "code",
   "execution_count": 44,
   "metadata": {},
   "outputs": [],
   "source": [
    "dfw.sort_values(['cnt', 'idx'], ascending = [False, True], inplace = True)\n"
   ]
  },
  {
   "cell_type": "code",
   "execution_count": 45,
   "metadata": {},
   "outputs": [],
   "source": [
    "dfb.sort_values(['cnt', 'idx'], ascending = [False, True], inplace = True)"
   ]
  },
  {
   "cell_type": "code",
   "execution_count": 54,
   "metadata": {},
   "outputs": [
    {
     "name": "stdout",
     "output_type": "stream",
     "text": [
      "['0.44', '0.50', '0.82', '0.21'] ['0.68', '0.79', '0.93', '0.25']\n"
     ]
    }
   ],
   "source": [
    "import numpy as np\n",
    "wrec5 = []\n",
    "wrec1 = []\n",
    "wprec5 = []\n",
    "wprec1 = []\n",
    "\n",
    "brec5 = []\n",
    "brec1 = []\n",
    "bprec5 = []\n",
    "bprec1 = []\n",
    "\n",
    "tdna = train.dropna()\n",
    "for sess in tdna.values:\n",
    "    watch = [int(x) for x in sess[0].split(',')]\n",
    "    buy = [int(x) for x in sess[1].split(',')]\n",
    "    \n",
    "    top5w = dfw[dfw.id.isin(watch)].id.values[:5]\n",
    "    top1w = set(top5w[0:1])\n",
    "    top5w = set(top5w)\n",
    "    \n",
    "    buy_set = set(buy)\n",
    "    lb = len(buy_set)\n",
    "    li5 = float(len(top5w.intersection(buy_set)))\n",
    "    wprec5.append(li5 / 5.)\n",
    "    wrec5.append(li5 / lb)\n",
    "    \n",
    "    li1 = float(len(top1w.intersection(buy_set)))\n",
    "    wprec1.append(li1)\n",
    "    wrec1.append(li1 / lb)\n",
    "    \n",
    "    top5b = dfb[dfb.id.isin(watch)].id.values[:5]\n",
    "    top1b = set(top5b[0:1])\n",
    "    top5b = set(top5b)\n",
    "    \n",
    "    li5 = float(len(top5b.intersection(buy_set)))\n",
    "    bprec5.append(li5 / 5.)\n",
    "    brec5.append(li5 / lb)\n",
    "    \n",
    "    li1 = float(len(top1b.intersection(buy_set)))\n",
    "    bprec1.append(li1)\n",
    "    brec1.append(li1 / lb)\n",
    "    \n",
    "\n",
    "answ = ['%.2f'%x for x in np.mean([wrec1, wprec1, wrec5, wprec5], axis = 1)]\n",
    "ansb = ['%.2f'%x for x in np.mean([brec1, bprec1, brec5, bprec5], axis = 1)]\n",
    "\n",
    "print answ, ansb\n",
    "with open('l1.txt', 'w') as f:\n",
    "    f.write(\" \".join(answ))\n",
    "with open('l2.txt', 'w') as f:\n",
    "    f.write(\" \".join(ansb))"
   ]
  },
  {
   "cell_type": "code",
   "execution_count": 52,
   "metadata": {},
   "outputs": [
    {
     "data": {
      "text/html": [
       "<div>\n",
       "<style>\n",
       "    .dataframe thead tr:only-child th {\n",
       "        text-align: right;\n",
       "    }\n",
       "\n",
       "    .dataframe thead th {\n",
       "        text-align: left;\n",
       "    }\n",
       "\n",
       "    .dataframe tbody tr th {\n",
       "        vertical-align: top;\n",
       "    }\n",
       "</style>\n",
       "<table border=\"1\" class=\"dataframe\">\n",
       "  <thead>\n",
       "    <tr style=\"text-align: right;\">\n",
       "      <th></th>\n",
       "      <th>watch</th>\n",
       "      <th>buy</th>\n",
       "    </tr>\n",
       "  </thead>\n",
       "  <tbody>\n",
       "    <tr>\n",
       "      <th>0</th>\n",
       "      <td>6,7,8</td>\n",
       "      <td>NaN</td>\n",
       "    </tr>\n",
       "    <tr>\n",
       "      <th>1</th>\n",
       "      <td>13,14,15</td>\n",
       "      <td>NaN</td>\n",
       "    </tr>\n",
       "    <tr>\n",
       "      <th>2</th>\n",
       "      <td>22,23</td>\n",
       "      <td>NaN</td>\n",
       "    </tr>\n",
       "    <tr>\n",
       "      <th>3</th>\n",
       "      <td>28,29,30,31,32,33</td>\n",
       "      <td>NaN</td>\n",
       "    </tr>\n",
       "    <tr>\n",
       "      <th>4</th>\n",
       "      <td>40,41</td>\n",
       "      <td>NaN</td>\n",
       "    </tr>\n",
       "  </tbody>\n",
       "</table>\n",
       "</div>"
      ],
      "text/plain": [
       "               watch  buy\n",
       "0              6,7,8  NaN\n",
       "1           13,14,15  NaN\n",
       "2              22,23  NaN\n",
       "3  28,29,30,31,32,33  NaN\n",
       "4              40,41  NaN"
      ]
     },
     "execution_count": 52,
     "metadata": {},
     "output_type": "execute_result"
    }
   ],
   "source": [
    "\n",
    "test = pd.read_csv('coursera_sessions_test.txt', sep = ';', header = None)\n",
    "test.columns = ['watch', 'buy']\n",
    "test.head()"
   ]
  },
  {
   "cell_type": "code",
   "execution_count": null,
   "metadata": {
    "collapsed": true
   },
   "outputs": [],
   "source": []
  },
  {
   "cell_type": "code",
   "execution_count": null,
   "metadata": {
    "collapsed": true
   },
   "outputs": [],
   "source": []
  },
  {
   "cell_type": "code",
   "execution_count": 61,
   "metadata": {},
   "outputs": [
    {
     "name": "stdout",
     "output_type": "stream",
     "text": [
      "['0.41', '0.48', '0.80', '0.20'] ['0.42', '0.48', '0.79', '0.20']\n"
     ]
    }
   ],
   "source": [
    "wrec5 = []\n",
    "wrec1 = []\n",
    "wprec5 = []\n",
    "wprec1 = []\n",
    "\n",
    "brec5 = []\n",
    "brec1 = []\n",
    "bprec5 = []\n",
    "bprec1 = []\n",
    "\n",
    "tdna = test.dropna()\n",
    "\n",
    "\n",
    "for sess in tdna.values:\n",
    "    watch = [int(x) for x in sess[0].split(',')]\n",
    "    buy = [int(x) for x in sess[1].split(',')]\n",
    "    \n",
    "    top5w = dfw[dfw.id.isin(watch)].id.values[:5]\n",
    "    if top5w.shape[0] < 5:\n",
    "        neww = set(watch).difference(set(top5w))\n",
    "        top5w = np.append(top5w, list(neww))[:5]\n",
    "    top1w = set(top5w[0:1])\n",
    "    top5w = set(top5w)\n",
    "    \n",
    "    buy_set = set(buy)\n",
    "    lb = len(buy_set)\n",
    "    li5 = float(len(top5w.intersection(buy_set)))\n",
    "    wprec5.append(li5 / 5.)\n",
    "    wrec5.append(li5 / lb)\n",
    "    \n",
    "    li1 = float(len(top1w.intersection(buy_set)))\n",
    "    wprec1.append(li1)\n",
    "    wrec1.append(li1 / lb)\n",
    "    \n",
    "    top5b = dfb[dfb.id.isin(watch)].id.values[:5]\n",
    "    if top5b.shape[0] < 5:\n",
    "        newb = set(watch).difference(set(top5b))\n",
    "        top5b = np.append(top5b, list(newb))[:5]\n",
    "    top1b = set(top5b[0:1])\n",
    "    top5b = set(top5b)\n",
    "    \n",
    "    li5 = float(len(top5b.intersection(buy_set)))\n",
    "    bprec5.append(li5 / 5.)\n",
    "    brec5.append(li5 / lb)\n",
    "    \n",
    "    li1 = float(len(top1b.intersection(buy_set)))\n",
    "    bprec1.append(li1)\n",
    "    brec1.append(li1 / lb)\n",
    "    \n",
    "\n",
    "answ = ['%.2f'%x for x in np.mean([wrec1, wprec1, wrec5, wprec5], axis = 1)]\n",
    "ansb = ['%.2f'%x for x in np.mean([brec1, bprec1, brec5, bprec5], axis = 1)]\n",
    "print answ, ansb\n",
    "with open('l3.txt', 'w') as f:\n",
    "    f.write(\" \".join(answ))\n",
    "with open('l4.txt', 'w') as f:\n",
    "    f.write(\" \".join(ansb))"
   ]
  },
  {
   "cell_type": "code",
   "execution_count": null,
   "metadata": {
    "collapsed": true
   },
   "outputs": [],
   "source": []
  }
 ],
 "metadata": {
  "kernelspec": {
   "display_name": "Python 2",
   "language": "python",
   "name": "python2"
  },
  "language_info": {
   "codemirror_mode": {
    "name": "ipython",
    "version": 2
   },
   "file_extension": ".py",
   "mimetype": "text/x-python",
   "name": "python",
   "nbconvert_exporter": "python",
   "pygments_lexer": "ipython2",
   "version": "2.7.14"
  }
 },
 "nbformat": 4,
 "nbformat_minor": 2
}
