{
 "cells": [
  {
   "cell_type": "code",
   "execution_count": 1,
   "metadata": {},
   "outputs": [
    {
     "name": "stdout",
     "output_type": "stream",
     "text": [
      "6 4\n",
      "6 4"
     ]
    }
   ],
   "source": [
    "import re\n",
    "import numpy as np\n",
    "from scipy.spatial.distance import cosine\n",
    "\n",
    "def fill_dict_from_file(filename):\n",
    "    words={}\n",
    "    n_words = -1\n",
    "    n_sent = -1\n",
    "    with open(filename) as f:\n",
    "        for line in f:\n",
    "            n_sent += 1\n",
    "            tokens = re.split('[^a-z]', line.lower())\n",
    "            for word in tokens:\n",
    "                \n",
    "                word = word.strip()\n",
    "                if word == '':\n",
    "                    continue\n",
    "                if word in words:\n",
    "                    if n_sent in words[word]:\n",
    "                        words[word][n_sent] += 1\n",
    "                    else:\n",
    "                        words[word][n_sent] = 1\n",
    "                else:\n",
    "                    n_words += 1\n",
    "                    words[word] = {'index' : n_words, n_sent : 1}\n",
    "            \n",
    "    return words, n_words, n_sent\n",
    "\n",
    "def fill_matrix_from_dict(words, n_words, n_sent):\n",
    "    matr = np.zeros((n_sent, n_words))\n",
    "    for key in words:\n",
    "        ind = words[key]['index']\n",
    "        word = words[key]\n",
    "        for sent in word:\n",
    "            if sent == 'index':\n",
    "                continue\n",
    "            matr[sent, ind] = word[sent]\n",
    "    return matr\n",
    "\n",
    "def compute_distance(matr, key):\n",
    "    v_key = matr[key, :]\n",
    "    ret = []\n",
    "    for row in matr:\n",
    "        ret.append(cosine(v_key, row))\n",
    "    return ret\n",
    "        \n",
    "        \n",
    "\n",
    "words, n_words, n_sent = fill_dict_from_file('sentences.txt')\n",
    "#print n_sent\n",
    "matr = fill_matrix_from_dict(words, n_words+1, n_sent+1)\n",
    "results = compute_distance(matr, 0)\n",
    "#print results\n",
    "results[0] = 1\n",
    "idx1 = results.index(min(results))\n",
    "results[idx1] = 1\n",
    "idx2 = results.index(min(results))\n",
    "print idx1, idx2\n",
    "with open('submission-1.txt', 'w') as f:\n",
    "    f.write(str(idx1) + ' ' + str(idx2))\n",
    "\n",
    "%cat submission-1.txt\n"
   ]
  },
  {
   "cell_type": "code",
   "execution_count": null,
   "metadata": {
    "collapsed": true
   },
   "outputs": [],
   "source": []
  }
 ],
 "metadata": {
  "kernelspec": {
   "display_name": "Python 2",
   "language": "python",
   "name": "python2"
  },
  "language_info": {
   "codemirror_mode": {
    "name": "ipython",
    "version": 2
   },
   "file_extension": ".py",
   "mimetype": "text/x-python",
   "name": "python",
   "nbconvert_exporter": "python",
   "pygments_lexer": "ipython2",
   "version": "2.7.14"
  }
 },
 "nbformat": 4,
 "nbformat_minor": 2
}
